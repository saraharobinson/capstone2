{
 "cells": [
  {
   "cell_type": "code",
   "execution_count": 66,
   "metadata": {},
   "outputs": [],
   "source": [
    "import gensim\n",
    "from gensim.models import Word2Vec, Doc2Vec\n",
    "import nltk\n",
    "from nltk.corpus import stopwords\n",
    "from nltk.stem import SnowballStemmer\n",
    "import re\n",
    "from sklearn.cluster import KMeans"
   ]
  },
  {
   "cell_type": "code",
   "execution_count": 74,
   "metadata": {},
   "outputs": [],
   "source": [
    "import pandas as pd\n",
    "from sklearn.decomposition import PCA\n",
    "import matplotlib.pyplot as plt"
   ]
  },
  {
   "cell_type": "code",
   "execution_count": 3,
   "metadata": {},
   "outputs": [],
   "source": [
    "plans = pd.read_csv('all_plans.csv', encoding = 'cp1252')\n",
    "\n",
    "plans['full_text']= plans['description'] + plans['response_1'] + plans['response_2'] + plans['response_3']"
   ]
  },
  {
   "cell_type": "code",
   "execution_count": 77,
   "metadata": {},
   "outputs": [
    {
     "data": {
      "text/html": [
       "<div>\n",
       "<style scoped>\n",
       "    .dataframe tbody tr th:only-of-type {\n",
       "        vertical-align: middle;\n",
       "    }\n",
       "\n",
       "    .dataframe tbody tr th {\n",
       "        vertical-align: top;\n",
       "    }\n",
       "\n",
       "    .dataframe thead th {\n",
       "        text-align: right;\n",
       "    }\n",
       "</style>\n",
       "<table border=\"1\" class=\"dataframe\">\n",
       "  <thead>\n",
       "    <tr style=\"text-align: right;\">\n",
       "      <th></th>\n",
       "      <th>institution_id</th>\n",
       "      <th>name</th>\n",
       "      <th>proposal_id</th>\n",
       "      <th>fund_id</th>\n",
       "      <th>year_id</th>\n",
       "      <th>description</th>\n",
       "      <th>response_1</th>\n",
       "      <th>response_2</th>\n",
       "      <th>response_3</th>\n",
       "      <th>full_text</th>\n",
       "    </tr>\n",
       "  </thead>\n",
       "  <tbody>\n",
       "    <tr>\n",
       "      <th>0</th>\n",
       "      <td>341</td>\n",
       "      <td>Desert</td>\n",
       "      <td>4069</td>\n",
       "      <td>3</td>\n",
       "      <td>2019</td>\n",
       "      <td>The Desert Regional Consortium has made a conc...</td>\n",
       "      <td>All AEBG allocations are approved unanimously ...</td>\n",
       "      <td>All AEBG funds from present and prior years ar...</td>\n",
       "      <td>The Desert Regional Consortium will have calen...</td>\n",
       "      <td>The Desert Regional Consortium has made a conc...</td>\n",
       "    </tr>\n",
       "    <tr>\n",
       "      <th>1</th>\n",
       "      <td>364</td>\n",
       "      <td>North Orange</td>\n",
       "      <td>4092</td>\n",
       "      <td>3</td>\n",
       "      <td>2019</td>\n",
       "      <td>Working together with all eight NOCRC Members ...</td>\n",
       "      <td>NOCR followed the established practices when a...</td>\n",
       "      <td>The carry-over funds will help support with th...</td>\n",
       "      <td>NOCRC will engage all eight consortium members...</td>\n",
       "      <td>Working together with all eight NOCRC Members ...</td>\n",
       "    </tr>\n",
       "    <tr>\n",
       "      <th>2</th>\n",
       "      <td>342</td>\n",
       "      <td>South Bay (El Camino)</td>\n",
       "      <td>4070</td>\n",
       "      <td>3</td>\n",
       "      <td>2019</td>\n",
       "      <td>MISSION\\nThe South Bay Adult Education Consort...</td>\n",
       "      <td>The uncertainty of the future funding makes it...</td>\n",
       "      <td>The South Bay Adult Education Consortium remai...</td>\n",
       "      <td>The SBAEC consortium has begun a strategic pla...</td>\n",
       "      <td>MISSION\\nThe South Bay Adult Education Consort...</td>\n",
       "    </tr>\n",
       "    <tr>\n",
       "      <th>3</th>\n",
       "      <td>390</td>\n",
       "      <td>South Bay (Southwestern)</td>\n",
       "      <td>4118</td>\n",
       "      <td>3</td>\n",
       "      <td>2019</td>\n",
       "      <td>Vision: The South Bay Adult Education Consorti...</td>\n",
       "      <td>The planned allocations for CUSD, SWC, and SUH...</td>\n",
       "      <td>We will focus remaining carryover funds at the...</td>\n",
       "      <td>A consortium-wide summit was held in Spring 20...</td>\n",
       "      <td>Vision: The South Bay Adult Education Consorti...</td>\n",
       "    </tr>\n",
       "    <tr>\n",
       "      <th>4</th>\n",
       "      <td>374</td>\n",
       "      <td>San Bernardino</td>\n",
       "      <td>4102</td>\n",
       "      <td>3</td>\n",
       "      <td>2019</td>\n",
       "      <td>In keeping with the Collective Impact approach...</td>\n",
       "      <td>IAEC Board Members engage in ongoing data, pro...</td>\n",
       "      <td>IAEC Member Districts participate in regularly...</td>\n",
       "      <td>The IAEC Executive Board holds regular meeting...</td>\n",
       "      <td>In keeping with the Collective Impact approach...</td>\n",
       "    </tr>\n",
       "  </tbody>\n",
       "</table>\n",
       "</div>"
      ],
      "text/plain": [
       "   institution_id                      name  proposal_id  fund_id  year_id  \\\n",
       "0             341                    Desert         4069        3     2019   \n",
       "1             364              North Orange         4092        3     2019   \n",
       "2             342     South Bay (El Camino)         4070        3     2019   \n",
       "3             390  South Bay (Southwestern)         4118        3     2019   \n",
       "4             374            San Bernardino         4102        3     2019   \n",
       "\n",
       "                                         description  \\\n",
       "0  The Desert Regional Consortium has made a conc...   \n",
       "1  Working together with all eight NOCRC Members ...   \n",
       "2  MISSION\\nThe South Bay Adult Education Consort...   \n",
       "3  Vision: The South Bay Adult Education Consorti...   \n",
       "4  In keeping with the Collective Impact approach...   \n",
       "\n",
       "                                          response_1  \\\n",
       "0  All AEBG allocations are approved unanimously ...   \n",
       "1  NOCR followed the established practices when a...   \n",
       "2  The uncertainty of the future funding makes it...   \n",
       "3  The planned allocations for CUSD, SWC, and SUH...   \n",
       "4  IAEC Board Members engage in ongoing data, pro...   \n",
       "\n",
       "                                          response_2  \\\n",
       "0  All AEBG funds from present and prior years ar...   \n",
       "1  The carry-over funds will help support with th...   \n",
       "2  The South Bay Adult Education Consortium remai...   \n",
       "3  We will focus remaining carryover funds at the...   \n",
       "4  IAEC Member Districts participate in regularly...   \n",
       "\n",
       "                                          response_3  \\\n",
       "0  The Desert Regional Consortium will have calen...   \n",
       "1  NOCRC will engage all eight consortium members...   \n",
       "2  The SBAEC consortium has begun a strategic pla...   \n",
       "3  A consortium-wide summit was held in Spring 20...   \n",
       "4  The IAEC Executive Board holds regular meeting...   \n",
       "\n",
       "                                           full_text  \n",
       "0  The Desert Regional Consortium has made a conc...  \n",
       "1  Working together with all eight NOCRC Members ...  \n",
       "2  MISSION\\nThe South Bay Adult Education Consort...  \n",
       "3  Vision: The South Bay Adult Education Consorti...  \n",
       "4  In keeping with the Collective Impact approach...  "
      ]
     },
     "execution_count": 77,
     "metadata": {},
     "output_type": "execute_result"
    }
   ],
   "source": [
    "plans.head()"
   ]
  },
  {
   "cell_type": "markdown",
   "metadata": {},
   "source": [
    "## preprocess"
   ]
  },
  {
   "cell_type": "code",
   "execution_count": 57,
   "metadata": {},
   "outputs": [],
   "source": [
    "#create set of stopwords to use later\n",
    "\n",
    "\n",
    "stop = set(stopwords.words('english'))\n",
    "new_stop = {'consortium', 'college', 'district', 'county','member', 'members', 'regions','plans', \n",
    "            'also', 'region', 'regional', 'desert','institution', 'north', 'west', 'south', 'east', \n",
    "            'valley', 'palo', 'effort','bakersfield', 'use', 'glendale', 'plan', 'would',\n",
    "            'add', 'must', 'different', 'extremely','year', 'edu', 'http', 'edu', 'ne', \n",
    "            'college', 'state', 'use', 'allow', 'take', 'could', 'look',\n",
    "            'plan', 'joshua', 'tree', 'pearson', 'vue', 'west', 'end', 'corridor',\n",
    "            'santa', 'clarita', 'valley','palo', 'verde','south', 'orange', 'county', \n",
    "            'salano', 'december', 'stanislaus', 'counties', 'marin'}\n",
    "stop = stop.union(new_stop)"
   ]
  },
  {
   "cell_type": "code",
   "execution_count": 91,
   "metadata": {},
   "outputs": [
    {
     "data": {
      "text/plain": [
       "set"
      ]
     },
     "execution_count": 91,
     "metadata": {},
     "output_type": "execute_result"
    }
   ],
   "source": [
    "type(stop)"
   ]
  },
  {
   "cell_type": "code",
   "execution_count": 86,
   "metadata": {},
   "outputs": [],
   "source": [
    "stemmer = SnowballStemmer(\"english\")\n",
    "\n",
    "#create two functions, one that stems and tokenizes, one that just tokenizes\n",
    "def tokenize_and_stem(text):\n",
    "    # first tokenize by sentence, then by word to ensure that punctuation is caught as it's own token\n",
    "    tokens = [word for sent in nltk.sent_tokenize(text) for word in nltk.word_tokenize(sent)]\n",
    "    filtered_tokens = []\n",
    "    # filter out any tokens not containing letters (e.g., numeric tokens, raw punctuation)\n",
    "    for token in tokens:\n",
    "        if re.search('[a-zA-Z]', token):\n",
    "            filtered_tokens.append(token)\n",
    "    stems = [stemmer.stem(t) for t in filtered_tokens]\n",
    "    return stems"
   ]
  },
  {
   "cell_type": "code",
   "execution_count": 95,
   "metadata": {},
   "outputs": [],
   "source": [
    "def tokenize_only(text):\n",
    "    # first tokenize by sentence, then by word to ensure that punctuation is caught as it's own token\n",
    "    tokens = [word.lower() for sent in nltk.sent_tokenize(text) for word in nltk.word_tokenize(sent)]\n",
    "    filtered_tokens = []\n",
    "    # filter out any tokens not containing letters (e.g., numeric tokens, raw punctuation)\n",
    "    for token in tokens:\n",
    "        if re.search('[a-zA-Z]', token):\n",
    "            filtered_tokens.append(token)\n",
    "    return filtered_tokens\n",
    "\n",
    "def remove_stopwords(text):\n",
    "    filtered_words = []\n",
    "    for word in text:\n",
    "        if word not in stop:\n",
    "            filtered_words.append(word)\n",
    "            \n",
    "    return filtered_words       "
   ]
  },
  {
   "cell_type": "code",
   "execution_count": 101,
   "metadata": {},
   "outputs": [],
   "source": [
    "#initiate lists to loop through/append\n",
    "descriptions = plans['full_text']\n",
    "all_content = []\n",
    "tokens = []\n",
    "flat_tokens = []\n",
    "flat_stems = []\n",
    "\n",
    "#initiate labeler??\n",
    "LabeledSentence1 = gensim.models.doc2vec.TaggedDocument\n",
    "\n",
    "\n",
    "#create list of list for documents/tokens\n",
    "for i in descriptions:\n",
    "    #for each item in 'descriptions', tokenize/stem\n",
    "    stemmed = tokenize_and_stem(i) \n",
    "    tokens = tokenize_only(i)\n",
    "    flat_stems.extend(stemmed)\n",
    "    flat_tokens.extend(tokens)\n",
    "    \n",
    "    all_content.append(stemmed)\n",
    "\n",
    "    tokens.append(allwords_tokenized)\n",
    "\n",
    "#remove stopwords from tokens and stems\n",
    "filtered_stems = []\n",
    "filtered_tokens = []\n",
    "j=0\n",
    "for doc in all_content:\n",
    "    filtered = remove_stopwords(doc)\n",
    "    filtered_stems.append(LabeledSentence1(filtered, [j]))\n",
    "    j+=1\n",
    "    \n",
    "for token in tokens:\n",
    "    filtered = remove_stopwords(token)\n",
    "    filtered_tokens.append(filtered)"
   ]
  },
  {
   "cell_type": "code",
   "execution_count": 102,
   "metadata": {},
   "outputs": [],
   "source": [
    "vocab_frame = pd.DataFrame({'words': flat_tokens}, \n",
    "                           index = flat_stems)"
   ]
  },
  {
   "cell_type": "markdown",
   "metadata": {},
   "source": [
    "## using Doc2Vec"
   ]
  },
  {
   "cell_type": "code",
   "execution_count": 103,
   "metadata": {},
   "outputs": [],
   "source": [
    "d2v_model = Doc2Vec(filtered_stems)\n",
    "d2v_model.train(filtered_stems, total_examples=d2v_model.corpus_count, epochs = 10)"
   ]
  },
  {
   "cell_type": "code",
   "execution_count": 146,
   "metadata": {},
   "outputs": [],
   "source": [
    "test=d2v_model.wv\n",
    "\n",
    "terms = test.index2word"
   ]
  },
  {
   "cell_type": "code",
   "execution_count": 105,
   "metadata": {},
   "outputs": [],
   "source": [
    "kmeans = KMeans(n_clusters = 4)\n",
    "X = kmeans.fit(d2v_model.docvecs.vectors_docs)\n",
    "labels = kmeans.labels_.tolist()\n",
    "\n",
    "l = kmeans.fit_predict(d2v_model.docvecs.vectors_docs)"
   ]
  },
  {
   "cell_type": "code",
   "execution_count": 106,
   "metadata": {},
   "outputs": [],
   "source": [
    "# pca for plotting the doc cluster\n",
    "pca = PCA(n_components=2)\n",
    "datapoints = pca.fit_transform(d2v_model.docvecs.vectors_docs)\n",
    "\n",
    "#pca for plotting the center points\n",
    "centers = kmeans.cluster_centers_\n",
    "center_points = pca.transform(centers)"
   ]
  },
  {
   "cell_type": "markdown",
   "metadata": {},
   "source": [
    "### plot the cluster"
   ]
  },
  {
   "cell_type": "code",
   "execution_count": 107,
   "metadata": {},
   "outputs": [
    {
     "data": {
      "image/png": "[encoded data removed]",
      "text/plain": [
       "<Figure size 432x288 with 1 Axes>"
      ]
     },
     "metadata": {
      "needs_background": "light"
     },
     "output_type": "display_data"
    }
   ],
   "source": [
    "plt.figure()\n",
    "#make list of colors to iterate through\n",
    "label1= [\"#FFFF00\", \"#008000\", \"#0000FF\", \"#800080\"]\n",
    "color = [label1[i] for i in labels]\n",
    "\n",
    "#plot document points\n",
    "plt.scatter(datapoints[:,0], datapoints[:,1], c=color)\n",
    "\n",
    "#plot center points\n",
    "plt.scatter(center_points[:,0], center_points[:,1], marker = '^', s=150, c= 'black')\n",
    "\n",
    "plt.show()"
   ]
  },
  {
   "cell_type": "code",
   "execution_count": 108,
   "metadata": {},
   "outputs": [],
   "source": [
    "#create word2vec model\n",
    "#w2v_model = gensim.models.Word2Vec(totalvocab_tokenized, min_count = 3)"
   ]
  },
  {
   "cell_type": "code",
   "execution_count": 109,
   "metadata": {},
   "outputs": [],
   "source": [
    "#w2v_model.similar_by_word(\"human\", topn=5)"
   ]
  },
  {
   "cell_type": "code",
   "execution_count": 110,
   "metadata": {},
   "outputs": [],
   "source": [
    "# X =w2v_model.wv.vectors\n",
    "\n",
    "# from nltk.cluster import KMeansClusterer\n",
    "# n_cluster = 5\n",
    "# kclusterer = KMeansClusterer(n_cluster, distance = nltk.cluster.util.cosine_distance, \n",
    "#                              repeats = 25)\n",
    "# assigned_clusters = kclusterer.cluster(X, assign_clusters= True)\n",
    "# print(assigned_clusters)"
   ]
  },
  {
   "cell_type": "code",
   "execution_count": 111,
   "metadata": {},
   "outputs": [],
   "source": [
    "institutions = plans['name']\n",
    "full_text = plans['full_text']\n",
    "labeled_df = {'institution': institutions, \n",
    "              'full_text': full_text,\n",
    "             'cluster': labels}\n",
    "\n",
    "df = pd.DataFrame.from_dict(labeled_df)"
   ]
  },
  {
   "cell_type": "code",
   "execution_count": 112,
   "metadata": {},
   "outputs": [
    {
     "data": {
      "text/html": [
       "<div>\n",
       "<style scoped>\n",
       "    .dataframe tbody tr th:only-of-type {\n",
       "        vertical-align: middle;\n",
       "    }\n",
       "\n",
       "    .dataframe tbody tr th {\n",
       "        vertical-align: top;\n",
       "    }\n",
       "\n",
       "    .dataframe thead th {\n",
       "        text-align: right;\n",
       "    }\n",
       "</style>\n",
       "<table border=\"1\" class=\"dataframe\">\n",
       "  <thead>\n",
       "    <tr style=\"text-align: right;\">\n",
       "      <th></th>\n",
       "      <th>institution</th>\n",
       "      <th>full_text</th>\n",
       "      <th>cluster</th>\n",
       "    </tr>\n",
       "  </thead>\n",
       "  <tbody>\n",
       "    <tr>\n",
       "      <th>0</th>\n",
       "      <td>Desert</td>\n",
       "      <td>The Desert Regional Consortium has made a conc...</td>\n",
       "      <td>0</td>\n",
       "    </tr>\n",
       "    <tr>\n",
       "      <th>1</th>\n",
       "      <td>North Orange</td>\n",
       "      <td>Working together with all eight NOCRC Members ...</td>\n",
       "      <td>3</td>\n",
       "    </tr>\n",
       "    <tr>\n",
       "      <th>2</th>\n",
       "      <td>South Bay (El Camino)</td>\n",
       "      <td>MISSION\\nThe South Bay Adult Education Consort...</td>\n",
       "      <td>2</td>\n",
       "    </tr>\n",
       "    <tr>\n",
       "      <th>3</th>\n",
       "      <td>South Bay (Southwestern)</td>\n",
       "      <td>Vision: The South Bay Adult Education Consorti...</td>\n",
       "      <td>0</td>\n",
       "    </tr>\n",
       "    <tr>\n",
       "      <th>4</th>\n",
       "      <td>San Bernardino</td>\n",
       "      <td>In keeping with the Collective Impact approach...</td>\n",
       "      <td>0</td>\n",
       "    </tr>\n",
       "  </tbody>\n",
       "</table>\n",
       "</div>"
      ],
      "text/plain": [
       "                institution  \\\n",
       "0                    Desert   \n",
       "1              North Orange   \n",
       "2     South Bay (El Camino)   \n",
       "3  South Bay (Southwestern)   \n",
       "4            San Bernardino   \n",
       "\n",
       "                                           full_text  cluster  \n",
       "0  The Desert Regional Consortium has made a conc...        0  \n",
       "1  Working together with all eight NOCRC Members ...        3  \n",
       "2  MISSION\\nThe South Bay Adult Education Consort...        2  \n",
       "3  Vision: The South Bay Adult Education Consorti...        0  \n",
       "4  In keeping with the Collective Impact approach...        0  "
      ]
     },
     "execution_count": 112,
     "metadata": {},
     "output_type": "execute_result"
    }
   ],
   "source": [
    "df.head()"
   ]
  },
  {
   "cell_type": "code",
   "execution_count": 149,
   "metadata": {},
   "outputs": [
    {
     "name": "stdout",
     "output_type": "stream",
     "text": [
      "Cluster 0 words: b'fiscally', b\"'s\", b'focus', b'gaps', b'address', b'curriculum', b'allocate', b'goals', b'high', b'partnerships', b'esl', b'program', b'learners', b'basic', b'data', b'workforce', b'education', b'initiated', b'skills', b'community',\n",
      "\n",
      "Cluster 0 instituions: Desert, South Bay (Southwestern), San Bernardino, Lake Tahoe, Mt. San Antonio, Victor Valley, Gateway (Merced), Mid Alameda County (Chabot-Las Positas), San Diego East (Grossmont-Cuyamaca), Rio Hondo, Los Angeles, Mendocino-Lake, Ventura County, Coastal North, Southeast Los Angeles, College of the Canyons, North Coast, Allan Hancock, State Center, ACCEL (San Mateo), Northern Alameda County (Peralta), Palo Verde, San Diego, Riverside About Students, Siskiyous, Delta Sierra Alliance, Stanislaus Mother Lode (Yosemite), Santa Monica, Lassen, Tri-Cities, Salinas Valley, Glendale, West End Corridor, Sonoma, Pasadena, Morongo Basin, Barstow,\n",
      "\n",
      "Cluster 1 words: b'fiscally', b\"'s\", b'goals', b'address', b'gaps', b'allocate', b'curriculum', b'partnerships', b'basic', b'esl', b'focus', b'workforce', b'high', b'program', b'data', b'community', b'approved', b'education', b'leveraging', b'skills',\n",
      "\n",
      "Cluster 1 instituions: Butte-Glenn, Coast, Solano, Long Beach, Southern Alameda County (Ohlone), Antelope Valley, San Luis Obispo, North Central (Yuba),\n",
      "\n",
      "Cluster 2 words: b'fiscally', b'goals', b'allocate', b'address', b'gaps', b'basic', b'curriculum', b'partnerships', b'workforce', b'approved', b'community', b\"'s\", b'esl', b'data', b'leveraging', b'board', b'college', b'education', b'program', b'areas',\n",
      "\n",
      "Cluster 2 instituions: South Bay (El Camino), Gavilan, Sierra Joint, Imperial, Rancho Santiago, Marin, Napa Valley, San Francisco, Santa Cruz, Kern, Monterey, West Hills, West Kern, Capital (Los Rios), Shasta-Tehama-Trinity,\n",
      "\n",
      "Cluster 3 words: b'fiscally', b\"'s\", b'gaps', b'address', b'goals', b'allocate', b'curriculum', b'partnerships', b'basic', b'focus', b'esl', b'workforce', b'high', b'data', b'program', b'education', b'community', b'approved', b'learners', b'areas',\n",
      "\n",
      "Cluster 3 instituions: North Orange, South Orange, Feather River, Sequoias, Foothill De Anza, Contra Costa, Citrus, Santa Barbara, Southwest Riverside, San Diego North (Palomar), South Bay (San Jose Evergreen),\n",
      "\n",
      "\n",
      "\n"
     ]
    }
   ],
   "source": [
    "order_centroids = centers.argsort()[:, ::-1] \n",
    "df.set_index('cluster', inplace = True)\n",
    "\n",
    "for i in range(4):\n",
    "    print(\"Cluster %d words:\" % i, end='')\n",
    "    \n",
    "    for ind in order_centroids[i, :20]: #replace 6 with n words per cluster\n",
    "        print(' %s' % vocab_frame.loc[terms[ind].split(' ')].values.tolist()[0][0].encode('utf-8', 'ignore'), end=',')\n",
    "    print() #add whitespace\n",
    "    print() #add whitespace\n",
    "    \n",
    "    print(\"Cluster %d instituions:\" % i, end='')\n",
    "    for ids in df.loc[i]['institution']:\n",
    "        print(' %s,' % ids, end='')\n",
    "    print() #add whitespace\n",
    "    print() #add whitespace\n",
    "    \n",
    "print()\n",
    "print()"
   ]
  },
  {
   "cell_type": "code",
   "execution_count": null,
   "metadata": {},
   "outputs": [],
   "source": []
  }
 ],
 "metadata": {
  "kernelspec": {
   "display_name": "Python 3",
   "language": "python",
   "name": "python3"
  },
  "language_info": {
   "codemirror_mode": {
    "name": "ipython",
    "version": 3
   },
   "file_extension": ".py",
   "mimetype": "text/x-python",
   "name": "python",
   "nbconvert_exporter": "python",
   "pygments_lexer": "ipython3",
   "version": "3.7.0"
  }
 },
 "nbformat": 4,
 "nbformat_minor": 2
}
